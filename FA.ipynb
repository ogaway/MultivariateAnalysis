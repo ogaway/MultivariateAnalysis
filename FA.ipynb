{
 "cells": [
  {
   "cell_type": "markdown",
   "metadata": {},
   "source": [
    "# 因子分析(FA: Factor Analysis)\n",
    "Author: Yoshimasa Ogawa  \n",
    "LastModified: 2015-12-19  \n",
    "\n",
    "圓川隆夫『多変量のデータ解析』(1988年, 朝倉書店)第5章「主成分分析と正準相関分析」をPythonで実行します。"
   ]
  },
  {
   "cell_type": "code",
   "execution_count": 1,
   "metadata": {
    "collapsed": true
   },
   "outputs": [],
   "source": [
    "%matplotlib inline\n",
    "import numpy as np\n",
    "import pandas as pd\n",
    "import pyper\n",
    "import matplotlib.pyplot as plt"
   ]
  },
  {
   "cell_type": "code",
   "execution_count": 2,
   "metadata": {
    "collapsed": false
   },
   "outputs": [],
   "source": [
    "# 関数定義\n",
    "# 因子分析\n",
    "def factanal(data, factors, rotation='none'):\n",
    "    r = pyper.R(use_pandas='True')\n",
    "    r.assign(\"data\", data)\n",
    "    r(\"result <- factanal(data, factors=%s, rotation='%s', scores='regression')\" % (factors, rotation))\n",
    "    result_var = pd.DataFrame(index=[\"固有値\", \"寄与率\", \"累積寄与率\"])\n",
    "    uniquenesses = pd.Series(r.get(\"result\"))[\"uniquenesses\"]\n",
    "    Rstar = np.trace(data.corr() - np.diag(uniquenesses))\n",
    "    result = pd.DataFrame(index=data.columns)\n",
    "    Cumulative_Var = 0\n",
    "    for i in range(factors):\n",
    "        result[\"factor%s\" % str(i+1)] = np.round(pd.Series(r.get(\"result\"))[\"loadings\"], 3).T[i]\n",
    "        SS_loadings = np.dot(pd.Series(r.get(\"result\"))[\"loadings\"].T[i], pd.Series(r.get(\"result\"))[\"loadings\"].T[i].T)\n",
    "        Proportion_Var = SS_loadings/Rstar\n",
    "        Cumulative_Var += Proportion_Var\n",
    "        result_var[\"factor%s\" % str(i+1)] = [round(SS_loadings, 3),\n",
    "                                                                           round(Proportion_Var, 3),\n",
    "                                                                           round(Cumulative_Var, 3)]\n",
    "    return result_var, result\n",
    "\n",
    "# 棒グラフのプロット\n",
    "def factplot(data, factors, result):\n",
    "    for i in range(factors):\n",
    "        plt.subplot(factors, 1, i+1)\n",
    "        plt.bar(range(9), result[\"factor%s\" % str(i+1)])\n",
    "        plt.title('Factor%s' % str(i+1))\n",
    "    plt.tight_layout()\n",
    "    print(data.columns)"
   ]
  },
  {
   "cell_type": "code",
   "execution_count": 3,
   "metadata": {
    "collapsed": false
   },
   "outputs": [
    {
     "data": {
      "text/html": [
       "<div>\n",
       "<table border=\"1\" class=\"dataframe\">\n",
       "  <thead>\n",
       "    <tr style=\"text-align: right;\">\n",
       "      <th></th>\n",
       "      <th>国語</th>\n",
       "      <th>社会</th>\n",
       "      <th>数学</th>\n",
       "      <th>理科</th>\n",
       "      <th>音楽</th>\n",
       "      <th>美術</th>\n",
       "      <th>保体</th>\n",
       "      <th>技家</th>\n",
       "      <th>英語</th>\n",
       "    </tr>\n",
       "  </thead>\n",
       "  <tbody>\n",
       "    <tr>\n",
       "      <th>0</th>\n",
       "      <td>55</td>\n",
       "      <td>59</td>\n",
       "      <td>38</td>\n",
       "      <td>66</td>\n",
       "      <td>29</td>\n",
       "      <td>32</td>\n",
       "      <td>29</td>\n",
       "      <td>36</td>\n",
       "      <td>61</td>\n",
       "    </tr>\n",
       "    <tr>\n",
       "      <th>1</th>\n",
       "      <td>36</td>\n",
       "      <td>49</td>\n",
       "      <td>35</td>\n",
       "      <td>57</td>\n",
       "      <td>63</td>\n",
       "      <td>62</td>\n",
       "      <td>55</td>\n",
       "      <td>66</td>\n",
       "      <td>45</td>\n",
       "    </tr>\n",
       "    <tr>\n",
       "      <th>2</th>\n",
       "      <td>53</td>\n",
       "      <td>58</td>\n",
       "      <td>16</td>\n",
       "      <td>41</td>\n",
       "      <td>67</td>\n",
       "      <td>64</td>\n",
       "      <td>50</td>\n",
       "      <td>50</td>\n",
       "      <td>48</td>\n",
       "    </tr>\n",
       "    <tr>\n",
       "      <th>3</th>\n",
       "      <td>78</td>\n",
       "      <td>80</td>\n",
       "      <td>42</td>\n",
       "      <td>65</td>\n",
       "      <td>85</td>\n",
       "      <td>75</td>\n",
       "      <td>69</td>\n",
       "      <td>76</td>\n",
       "      <td>70</td>\n",
       "    </tr>\n",
       "    <tr>\n",
       "      <th>4</th>\n",
       "      <td>6</td>\n",
       "      <td>19</td>\n",
       "      <td>38</td>\n",
       "      <td>59</td>\n",
       "      <td>49</td>\n",
       "      <td>47</td>\n",
       "      <td>43</td>\n",
       "      <td>57</td>\n",
       "      <td>26</td>\n",
       "    </tr>\n",
       "  </tbody>\n",
       "</table>\n",
       "</div>"
      ],
      "text/plain": [
       "   国語  社会  数学  理科  音楽  美術  保体  技家  英語\n",
       "0  55  59  38  66  29  32  29  36  61\n",
       "1  36  49  35  57  63  62  55  66  45\n",
       "2  53  58  16  41  67  64  50  50  48\n",
       "3  78  80  42  65  85  75  69  76  70\n",
       "4   6  19  38  59  49  47  43  57  26"
      ]
     },
     "execution_count": 3,
     "metadata": {},
     "output_type": "execute_result"
    }
   ],
   "source": [
    "# データの読み込み\n",
    "data = pd.read_csv(\"data/tab47.csv\")\n",
    "data.head()"
   ]
  },
  {
   "cell_type": "code",
   "execution_count": 4,
   "metadata": {
    "collapsed": false
   },
   "outputs": [],
   "source": [
    "# 回転なし\n",
    "result_nvar, result_n = factanal(data, 3)"
   ]
  },
  {
   "cell_type": "code",
   "execution_count": 5,
   "metadata": {
    "collapsed": false
   },
   "outputs": [
    {
     "data": {
      "text/html": [
       "<div>\n",
       "<table border=\"1\" class=\"dataframe\">\n",
       "  <thead>\n",
       "    <tr style=\"text-align: right;\">\n",
       "      <th></th>\n",
       "      <th>factor1</th>\n",
       "      <th>factor2</th>\n",
       "      <th>factor3</th>\n",
       "    </tr>\n",
       "  </thead>\n",
       "  <tbody>\n",
       "    <tr>\n",
       "      <th>固有値</th>\n",
       "      <td>4.027</td>\n",
       "      <td>3.340</td>\n",
       "      <td>1.401</td>\n",
       "    </tr>\n",
       "    <tr>\n",
       "      <th>寄与率</th>\n",
       "      <td>0.459</td>\n",
       "      <td>0.381</td>\n",
       "      <td>0.160</td>\n",
       "    </tr>\n",
       "    <tr>\n",
       "      <th>累積寄与率</th>\n",
       "      <td>0.459</td>\n",
       "      <td>0.840</td>\n",
       "      <td>1.000</td>\n",
       "    </tr>\n",
       "  </tbody>\n",
       "</table>\n",
       "</div>"
      ],
      "text/plain": [
       "       factor1  factor2  factor3\n",
       "固有値      4.027    3.340    1.401\n",
       "寄与率      0.459    0.381    0.160\n",
       "累積寄与率    0.459    0.840    1.000"
      ]
     },
     "execution_count": 5,
     "metadata": {},
     "output_type": "execute_result"
    }
   ],
   "source": [
    "result_nvar"
   ]
  },
  {
   "cell_type": "code",
   "execution_count": 6,
   "metadata": {
    "collapsed": false
   },
   "outputs": [
    {
     "data": {
      "text/html": [
       "<div>\n",
       "<table border=\"1\" class=\"dataframe\">\n",
       "  <thead>\n",
       "    <tr style=\"text-align: right;\">\n",
       "      <th></th>\n",
       "      <th>factor1</th>\n",
       "      <th>factor2</th>\n",
       "      <th>factor3</th>\n",
       "    </tr>\n",
       "  </thead>\n",
       "  <tbody>\n",
       "    <tr>\n",
       "      <th>国語</th>\n",
       "      <td>0.731</td>\n",
       "      <td>-0.016</td>\n",
       "      <td>0.650</td>\n",
       "    </tr>\n",
       "    <tr>\n",
       "      <th>社会</th>\n",
       "      <td>0.833</td>\n",
       "      <td>-0.005</td>\n",
       "      <td>0.544</td>\n",
       "    </tr>\n",
       "    <tr>\n",
       "      <th>数学</th>\n",
       "      <td>0.840</td>\n",
       "      <td>-0.000</td>\n",
       "      <td>-0.493</td>\n",
       "    </tr>\n",
       "    <tr>\n",
       "      <th>理科</th>\n",
       "      <td>0.909</td>\n",
       "      <td>-0.121</td>\n",
       "      <td>-0.393</td>\n",
       "    </tr>\n",
       "    <tr>\n",
       "      <th>音楽</th>\n",
       "      <td>0.129</td>\n",
       "      <td>0.981</td>\n",
       "      <td>-0.000</td>\n",
       "    </tr>\n",
       "    <tr>\n",
       "      <th>美術</th>\n",
       "      <td>0.143</td>\n",
       "      <td>0.972</td>\n",
       "      <td>0.117</td>\n",
       "    </tr>\n",
       "    <tr>\n",
       "      <th>保体</th>\n",
       "      <td>0.274</td>\n",
       "      <td>0.940</td>\n",
       "      <td>-0.088</td>\n",
       "    </tr>\n",
       "    <tr>\n",
       "      <th>技家</th>\n",
       "      <td>0.528</td>\n",
       "      <td>0.724</td>\n",
       "      <td>-0.405</td>\n",
       "    </tr>\n",
       "    <tr>\n",
       "      <th>英語</th>\n",
       "      <td>0.936</td>\n",
       "      <td>-0.108</td>\n",
       "      <td>0.317</td>\n",
       "    </tr>\n",
       "  </tbody>\n",
       "</table>\n",
       "</div>"
      ],
      "text/plain": [
       "    factor1  factor2  factor3\n",
       "国語    0.731   -0.016    0.650\n",
       "社会    0.833   -0.005    0.544\n",
       "数学    0.840   -0.000   -0.493\n",
       "理科    0.909   -0.121   -0.393\n",
       "音楽    0.129    0.981   -0.000\n",
       "美術    0.143    0.972    0.117\n",
       "保体    0.274    0.940   -0.088\n",
       "技家    0.528    0.724   -0.405\n",
       "英語    0.936   -0.108    0.317"
      ]
     },
     "execution_count": 6,
     "metadata": {},
     "output_type": "execute_result"
    }
   ],
   "source": [
    "result_n"
   ]
  },
  {
   "cell_type": "code",
   "execution_count": 7,
   "metadata": {
    "collapsed": false
   },
   "outputs": [
    {
     "name": "stdout",
     "output_type": "stream",
     "text": [
      "Index([u'国語', u'社会', u'数学', u'理科', u'音楽', u'美術', u'保体', u'技家', u'英語'], dtype='object')\n"
     ]
    },
    {
     "data": {
      "image/png": "[encoded data removed]",
      "text/plain": [
       "<matplotlib.figure.Figure at 0x10772ff90>"
      ]
     },
     "metadata": {},
     "output_type": "display_data"
    }
   ],
   "source": [
    "factplot(data, 3, result_n)"
   ]
  },
  {
   "cell_type": "code",
   "execution_count": 8,
   "metadata": {
    "collapsed": true
   },
   "outputs": [],
   "source": [
    "# varimax回転\n",
    "result_vvar, result_v = factanal(data, 3, 'varimax')"
   ]
  },
  {
   "cell_type": "code",
   "execution_count": 9,
   "metadata": {
    "collapsed": false
   },
   "outputs": [
    {
     "data": {
      "text/html": [
       "<div>\n",
       "<table border=\"1\" class=\"dataframe\">\n",
       "  <thead>\n",
       "    <tr style=\"text-align: right;\">\n",
       "      <th></th>\n",
       "      <th>factor1</th>\n",
       "      <th>factor2</th>\n",
       "      <th>factor3</th>\n",
       "    </tr>\n",
       "  </thead>\n",
       "  <tbody>\n",
       "    <tr>\n",
       "      <th>固有値</th>\n",
       "      <td>3.534</td>\n",
       "      <td>2.836</td>\n",
       "      <td>2.398</td>\n",
       "    </tr>\n",
       "    <tr>\n",
       "      <th>寄与率</th>\n",
       "      <td>0.403</td>\n",
       "      <td>0.323</td>\n",
       "      <td>0.274</td>\n",
       "    </tr>\n",
       "    <tr>\n",
       "      <th>累積寄与率</th>\n",
       "      <td>0.403</td>\n",
       "      <td>0.727</td>\n",
       "      <td>1.000</td>\n",
       "    </tr>\n",
       "  </tbody>\n",
       "</table>\n",
       "</div>"
      ],
      "text/plain": [
       "       factor1  factor2  factor3\n",
       "固有値      3.534    2.836    2.398\n",
       "寄与率      0.403    0.323    0.274\n",
       "累積寄与率    0.403    0.727    1.000"
      ]
     },
     "execution_count": 9,
     "metadata": {},
     "output_type": "execute_result"
    }
   ],
   "source": [
    "result_vvar"
   ]
  },
  {
   "cell_type": "code",
   "execution_count": 10,
   "metadata": {
    "collapsed": false
   },
   "outputs": [
    {
     "data": {
      "text/html": [
       "<div>\n",
       "<table border=\"1\" class=\"dataframe\">\n",
       "  <thead>\n",
       "    <tr style=\"text-align: right;\">\n",
       "      <th></th>\n",
       "      <th>factor1</th>\n",
       "      <th>factor2</th>\n",
       "      <th>factor3</th>\n",
       "    </tr>\n",
       "  </thead>\n",
       "  <tbody>\n",
       "    <tr>\n",
       "      <th>国語</th>\n",
       "      <td>0.066</td>\n",
       "      <td>0.973</td>\n",
       "      <td>0.078</td>\n",
       "    </tr>\n",
       "    <tr>\n",
       "      <th>社会</th>\n",
       "      <td>0.093</td>\n",
       "      <td>0.966</td>\n",
       "      <td>0.223</td>\n",
       "    </tr>\n",
       "    <tr>\n",
       "      <th>数学</th>\n",
       "      <td>0.118</td>\n",
       "      <td>0.219</td>\n",
       "      <td>0.941</td>\n",
       "    </tr>\n",
       "    <tr>\n",
       "      <th>理科</th>\n",
       "      <td>0.006</td>\n",
       "      <td>0.348</td>\n",
       "      <td>0.935</td>\n",
       "    </tr>\n",
       "    <tr>\n",
       "      <th>音楽</th>\n",
       "      <td>0.989</td>\n",
       "      <td>0.014</td>\n",
       "      <td>-0.013</td>\n",
       "    </tr>\n",
       "    <tr>\n",
       "      <th>美術</th>\n",
       "      <td>0.980</td>\n",
       "      <td>0.110</td>\n",
       "      <td>-0.082</td>\n",
       "    </tr>\n",
       "    <tr>\n",
       "      <th>保体</th>\n",
       "      <td>0.969</td>\n",
       "      <td>0.053</td>\n",
       "      <td>0.156</td>\n",
       "    </tr>\n",
       "    <tr>\n",
       "      <th>技家</th>\n",
       "      <td>0.794</td>\n",
       "      <td>0.014</td>\n",
       "      <td>0.580</td>\n",
       "    </tr>\n",
       "    <tr>\n",
       "      <th>英語</th>\n",
       "      <td>0.008</td>\n",
       "      <td>0.880</td>\n",
       "      <td>0.464</td>\n",
       "    </tr>\n",
       "  </tbody>\n",
       "</table>\n",
       "</div>"
      ],
      "text/plain": [
       "    factor1  factor2  factor3\n",
       "国語    0.066    0.973    0.078\n",
       "社会    0.093    0.966    0.223\n",
       "数学    0.118    0.219    0.941\n",
       "理科    0.006    0.348    0.935\n",
       "音楽    0.989    0.014   -0.013\n",
       "美術    0.980    0.110   -0.082\n",
       "保体    0.969    0.053    0.156\n",
       "技家    0.794    0.014    0.580\n",
       "英語    0.008    0.880    0.464"
      ]
     },
     "execution_count": 10,
     "metadata": {},
     "output_type": "execute_result"
    }
   ],
   "source": [
    "result_v"
   ]
  },
  {
   "cell_type": "code",
   "execution_count": 11,
   "metadata": {
    "collapsed": false
   },
   "outputs": [
    {
     "name": "stdout",
     "output_type": "stream",
     "text": [
      "Index([u'国語', u'社会', u'数学', u'理科', u'音楽', u'美術', u'保体', u'技家', u'英語'], dtype='object')\n"
     ]
    },
    {
     "data": {
      "image/png": "[encoded data removed]",
      "text/plain": [
       "<matplotlib.figure.Figure at 0x1079838d0>"
      ]
     },
     "metadata": {},
     "output_type": "display_data"
    }
   ],
   "source": [
    "factplot(data, 3, result_v)"
   ]
  },
  {
   "cell_type": "code",
   "execution_count": 12,
   "metadata": {
    "collapsed": true
   },
   "outputs": [],
   "source": [
    "# promax回転\n",
    "result_pvar, result_p = factanal(data, 3, 'promax')"
   ]
  },
  {
   "cell_type": "code",
   "execution_count": 13,
   "metadata": {
    "collapsed": false
   },
   "outputs": [
    {
     "data": {
      "text/html": [
       "<div>\n",
       "<table border=\"1\" class=\"dataframe\">\n",
       "  <thead>\n",
       "    <tr style=\"text-align: right;\">\n",
       "      <th></th>\n",
       "      <th>factor1</th>\n",
       "      <th>factor2</th>\n",
       "      <th>factor3</th>\n",
       "    </tr>\n",
       "  </thead>\n",
       "  <tbody>\n",
       "    <tr>\n",
       "      <th>固有値</th>\n",
       "      <td>3.537</td>\n",
       "      <td>2.715</td>\n",
       "      <td>2.402</td>\n",
       "    </tr>\n",
       "    <tr>\n",
       "      <th>寄与率</th>\n",
       "      <td>0.403</td>\n",
       "      <td>0.310</td>\n",
       "      <td>0.274</td>\n",
       "    </tr>\n",
       "    <tr>\n",
       "      <th>累積寄与率</th>\n",
       "      <td>0.403</td>\n",
       "      <td>0.713</td>\n",
       "      <td>0.987</td>\n",
       "    </tr>\n",
       "  </tbody>\n",
       "</table>\n",
       "</div>"
      ],
      "text/plain": [
       "       factor1  factor2  factor3\n",
       "固有値      3.537    2.715    2.402\n",
       "寄与率      0.403    0.310    0.274\n",
       "累積寄与率    0.403    0.713    0.987"
      ]
     },
     "execution_count": 13,
     "metadata": {},
     "output_type": "execute_result"
    }
   ],
   "source": [
    "result_pvar"
   ]
  },
  {
   "cell_type": "code",
   "execution_count": 14,
   "metadata": {
    "collapsed": false
   },
   "outputs": [
    {
     "data": {
      "text/html": [
       "<div>\n",
       "<table border=\"1\" class=\"dataframe\">\n",
       "  <thead>\n",
       "    <tr style=\"text-align: right;\">\n",
       "      <th></th>\n",
       "      <th>factor1</th>\n",
       "      <th>factor2</th>\n",
       "      <th>factor3</th>\n",
       "    </tr>\n",
       "  </thead>\n",
       "  <tbody>\n",
       "    <tr>\n",
       "      <th>国語</th>\n",
       "      <td>0.054</td>\n",
       "      <td>1.021</td>\n",
       "      <td>-0.128</td>\n",
       "    </tr>\n",
       "    <tr>\n",
       "      <th>社会</th>\n",
       "      <td>0.060</td>\n",
       "      <td>0.974</td>\n",
       "      <td>0.031</td>\n",
       "    </tr>\n",
       "    <tr>\n",
       "      <th>数学</th>\n",
       "      <td>-0.017</td>\n",
       "      <td>-0.021</td>\n",
       "      <td>0.986</td>\n",
       "    </tr>\n",
       "    <tr>\n",
       "      <th>理科</th>\n",
       "      <td>-0.131</td>\n",
       "      <td>0.120</td>\n",
       "      <td>0.964</td>\n",
       "    </tr>\n",
       "    <tr>\n",
       "      <th>音楽</th>\n",
       "      <td>1.012</td>\n",
       "      <td>0.006</td>\n",
       "      <td>-0.122</td>\n",
       "    </tr>\n",
       "    <tr>\n",
       "      <th>美術</th>\n",
       "      <td>1.012</td>\n",
       "      <td>0.127</td>\n",
       "      <td>-0.218</td>\n",
       "    </tr>\n",
       "    <tr>\n",
       "      <th>保体</th>\n",
       "      <td>0.966</td>\n",
       "      <td>0.002</td>\n",
       "      <td>0.059</td>\n",
       "    </tr>\n",
       "    <tr>\n",
       "      <th>技家</th>\n",
       "      <td>0.727</td>\n",
       "      <td>-0.151</td>\n",
       "      <td>0.556</td>\n",
       "    </tr>\n",
       "    <tr>\n",
       "      <th>英語</th>\n",
       "      <td>-0.062</td>\n",
       "      <td>0.818</td>\n",
       "      <td>0.327</td>\n",
       "    </tr>\n",
       "  </tbody>\n",
       "</table>\n",
       "</div>"
      ],
      "text/plain": [
       "    factor1  factor2  factor3\n",
       "国語    0.054    1.021   -0.128\n",
       "社会    0.060    0.974    0.031\n",
       "数学   -0.017   -0.021    0.986\n",
       "理科   -0.131    0.120    0.964\n",
       "音楽    1.012    0.006   -0.122\n",
       "美術    1.012    0.127   -0.218\n",
       "保体    0.966    0.002    0.059\n",
       "技家    0.727   -0.151    0.556\n",
       "英語   -0.062    0.818    0.327"
      ]
     },
     "execution_count": 14,
     "metadata": {},
     "output_type": "execute_result"
    }
   ],
   "source": [
    "result_p"
   ]
  },
  {
   "cell_type": "code",
   "execution_count": 15,
   "metadata": {
    "collapsed": false
   },
   "outputs": [
    {
     "name": "stdout",
     "output_type": "stream",
     "text": [
      "Index([u'国語', u'社会', u'数学', u'理科', u'音楽', u'美術', u'保体', u'技家', u'英語'], dtype='object')\n"
     ]
    },
    {
     "data": {
      "image/png": "[encoded data removed]",
      "text/plain": [
       "<matplotlib.figure.Figure at 0x107c33b90>"
      ]
     },
     "metadata": {},
     "output_type": "display_data"
    }
   ],
   "source": [
    "factplot(data, 3, result_p)"
   ]
  }
 ],
 "metadata": {
  "kernelspec": {
   "display_name": "Python 2",
   "language": "python",
   "name": "python2"
  },
  "language_info": {
   "codemirror_mode": {
    "name": "ipython",
    "version": 2
   },
   "file_extension": ".py",
   "mimetype": "text/x-python",
   "name": "python",
   "nbconvert_exporter": "python",
   "pygments_lexer": "ipython2",
   "version": "2.7.10"
  }
 },
 "nbformat": 4,
 "nbformat_minor": 0
}
